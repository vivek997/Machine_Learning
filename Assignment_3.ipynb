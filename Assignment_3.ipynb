{
 "cells": [
  {
   "cell_type": "code",
   "execution_count": 1,
   "metadata": {},
   "outputs": [
    {
     "data": {
      "text/plain": [
       "0.0303030303030303"
      ]
     },
     "execution_count": 1,
     "metadata": {},
     "output_type": "execute_result"
    }
   ],
   "source": [
    "# question 1\n",
    "def probability(x,y,z):\n",
    "  p = (z * y) / x\n",
    "  return p\n",
    "probability(11/36 , 6/36 , 2/36)"
   ]
  },
  {
   "cell_type": "code",
   "execution_count": 2,
   "metadata": {},
   "outputs": [
    {
     "name": "stdout",
     "output_type": "stream",
     "text": [
      "0.5833333333333334\n"
     ]
    }
   ],
   "source": [
    "# question 2\n",
    "# probability of bag 1 = 1/2\n",
    "bag1 = 1/2\n",
    "# probability of bag 2 = 1/2\n",
    "bag2 = 1/2\n",
    "# probability of black from bag 1 = 6/10\n",
    "black1 = 6/10\n",
    "# probability of black from bag 2  = 3/7\n",
    "black2 = 3/7\n",
    "probability = (bag1 * black1) / ((bag1 * black1) + (bag2 * black2))\n",
    "print (probability)"
   ]
  },
  {
   "cell_type": "code",
   "execution_count": 3,
   "metadata": {},
   "outputs": [
    {
     "name": "stdout",
     "output_type": "stream",
     "text": [
      "0.2857142857142857\n"
     ]
    }
   ],
   "source": [
    "# question 3\n",
    "# probability of speaking the truth P(T)= 2/3\n",
    "truth = 2/3\n",
    "# probability of getting \"6\" on the dice P(4) = 1/6\n",
    "six = 1/6\n",
    "lie = 1/3\n",
    "nosix = 5/6\n",
    "probability = (truth * six) / ((truth * six) + (lie * nosix))\n",
    "print (probability)"
   ]
  },
  {
   "cell_type": "code",
   "execution_count": null,
   "metadata": {},
   "outputs": [],
   "source": []
  }
 ],
 "metadata": {
  "kernelspec": {
   "display_name": "Python 3",
   "language": "python",
   "name": "python3"
  },
  "language_info": {
   "codemirror_mode": {
    "name": "ipython",
    "version": 3
   },
   "file_extension": ".py",
   "mimetype": "text/x-python",
   "name": "python",
   "nbconvert_exporter": "python",
   "pygments_lexer": "ipython3",
   "version": "3.6.5"
  }
 },
 "nbformat": 4,
 "nbformat_minor": 2
}
