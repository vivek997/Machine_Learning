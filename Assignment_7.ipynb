{
 "cells": [
  {
   "cell_type": "markdown",
   "metadata": {},
   "source": [
    "## Data Analysis on House Price Prediction"
   ]
  },
  {
   "cell_type": "markdown",
   "metadata": {},
   "source": [
    "###### The aim of this report is to predict the house prices based on various parameters."
   ]
  },
  {
   "cell_type": "code",
   "execution_count": 2,
   "metadata": {},
   "outputs": [],
   "source": [
    "# Importing the required libraries.\n",
    "import matplotlib.pyplot as plt\n",
    "import seaborn as sns\n",
    "import pandas as pd\n",
    "import numpy as np\n",
    "%matplotlib inline"
   ]
  },
  {
   "cell_type": "markdown",
   "metadata": {},
   "source": [
    "- Let us view the data in a dataframe format.\n",
    "\n",
    "- We use the head function to view the first ten rows of the data set."
   ]
  },
  {
   "cell_type": "code",
   "execution_count": 3,
   "metadata": {},
   "outputs": [
    {
     "data": {
      "text/html": [
       "<div>\n",
       "<style scoped>\n",
       "    .dataframe tbody tr th:only-of-type {\n",
       "        vertical-align: middle;\n",
       "    }\n",
       "\n",
       "    .dataframe tbody tr th {\n",
       "        vertical-align: top;\n",
       "    }\n",
       "\n",
       "    .dataframe thead th {\n",
       "        text-align: right;\n",
       "    }\n",
       "</style>\n",
       "<table border=\"1\" class=\"dataframe\">\n",
       "  <thead>\n",
       "    <tr style=\"text-align: right;\">\n",
       "      <th></th>\n",
       "      <th>id</th>\n",
       "      <th>date</th>\n",
       "      <th>price</th>\n",
       "      <th>bedrooms</th>\n",
       "      <th>bathrooms</th>\n",
       "      <th>sqft_living</th>\n",
       "      <th>sqft_lot</th>\n",
       "      <th>floors</th>\n",
       "      <th>waterfront</th>\n",
       "      <th>view</th>\n",
       "      <th>...</th>\n",
       "      <th>grade</th>\n",
       "      <th>sqft_above</th>\n",
       "      <th>sqft_basement</th>\n",
       "      <th>yr_built</th>\n",
       "      <th>yr_renovated</th>\n",
       "      <th>zipcode</th>\n",
       "      <th>lat</th>\n",
       "      <th>long</th>\n",
       "      <th>sqft_living15</th>\n",
       "      <th>sqft_lot15</th>\n",
       "    </tr>\n",
       "  </thead>\n",
       "  <tbody>\n",
       "    <tr>\n",
       "      <th>0</th>\n",
       "      <td>7129300520</td>\n",
       "      <td>20141013T000000</td>\n",
       "      <td>221900.0</td>\n",
       "      <td>3</td>\n",
       "      <td>1.00</td>\n",
       "      <td>1180</td>\n",
       "      <td>5650</td>\n",
       "      <td>1.0</td>\n",
       "      <td>0</td>\n",
       "      <td>0</td>\n",
       "      <td>...</td>\n",
       "      <td>7</td>\n",
       "      <td>1180</td>\n",
       "      <td>0</td>\n",
       "      <td>1955</td>\n",
       "      <td>0</td>\n",
       "      <td>98178</td>\n",
       "      <td>47.5112</td>\n",
       "      <td>-122.257</td>\n",
       "      <td>1340</td>\n",
       "      <td>5650</td>\n",
       "    </tr>\n",
       "    <tr>\n",
       "      <th>1</th>\n",
       "      <td>6414100192</td>\n",
       "      <td>20141209T000000</td>\n",
       "      <td>538000.0</td>\n",
       "      <td>3</td>\n",
       "      <td>2.25</td>\n",
       "      <td>2570</td>\n",
       "      <td>7242</td>\n",
       "      <td>2.0</td>\n",
       "      <td>0</td>\n",
       "      <td>0</td>\n",
       "      <td>...</td>\n",
       "      <td>7</td>\n",
       "      <td>2170</td>\n",
       "      <td>400</td>\n",
       "      <td>1951</td>\n",
       "      <td>1991</td>\n",
       "      <td>98125</td>\n",
       "      <td>47.7210</td>\n",
       "      <td>-122.319</td>\n",
       "      <td>1690</td>\n",
       "      <td>7639</td>\n",
       "    </tr>\n",
       "    <tr>\n",
       "      <th>2</th>\n",
       "      <td>5631500400</td>\n",
       "      <td>20150225T000000</td>\n",
       "      <td>180000.0</td>\n",
       "      <td>2</td>\n",
       "      <td>1.00</td>\n",
       "      <td>770</td>\n",
       "      <td>10000</td>\n",
       "      <td>1.0</td>\n",
       "      <td>0</td>\n",
       "      <td>0</td>\n",
       "      <td>...</td>\n",
       "      <td>6</td>\n",
       "      <td>770</td>\n",
       "      <td>0</td>\n",
       "      <td>1933</td>\n",
       "      <td>0</td>\n",
       "      <td>98028</td>\n",
       "      <td>47.7379</td>\n",
       "      <td>-122.233</td>\n",
       "      <td>2720</td>\n",
       "      <td>8062</td>\n",
       "    </tr>\n",
       "    <tr>\n",
       "      <th>3</th>\n",
       "      <td>2487200875</td>\n",
       "      <td>20141209T000000</td>\n",
       "      <td>604000.0</td>\n",
       "      <td>4</td>\n",
       "      <td>3.00</td>\n",
       "      <td>1960</td>\n",
       "      <td>5000</td>\n",
       "      <td>1.0</td>\n",
       "      <td>0</td>\n",
       "      <td>0</td>\n",
       "      <td>...</td>\n",
       "      <td>7</td>\n",
       "      <td>1050</td>\n",
       "      <td>910</td>\n",
       "      <td>1965</td>\n",
       "      <td>0</td>\n",
       "      <td>98136</td>\n",
       "      <td>47.5208</td>\n",
       "      <td>-122.393</td>\n",
       "      <td>1360</td>\n",
       "      <td>5000</td>\n",
       "    </tr>\n",
       "    <tr>\n",
       "      <th>4</th>\n",
       "      <td>1954400510</td>\n",
       "      <td>20150218T000000</td>\n",
       "      <td>510000.0</td>\n",
       "      <td>3</td>\n",
       "      <td>2.00</td>\n",
       "      <td>1680</td>\n",
       "      <td>8080</td>\n",
       "      <td>1.0</td>\n",
       "      <td>0</td>\n",
       "      <td>0</td>\n",
       "      <td>...</td>\n",
       "      <td>8</td>\n",
       "      <td>1680</td>\n",
       "      <td>0</td>\n",
       "      <td>1987</td>\n",
       "      <td>0</td>\n",
       "      <td>98074</td>\n",
       "      <td>47.6168</td>\n",
       "      <td>-122.045</td>\n",
       "      <td>1800</td>\n",
       "      <td>7503</td>\n",
       "    </tr>\n",
       "    <tr>\n",
       "      <th>5</th>\n",
       "      <td>7237550310</td>\n",
       "      <td>20140512T000000</td>\n",
       "      <td>1225000.0</td>\n",
       "      <td>4</td>\n",
       "      <td>4.50</td>\n",
       "      <td>5420</td>\n",
       "      <td>101930</td>\n",
       "      <td>1.0</td>\n",
       "      <td>0</td>\n",
       "      <td>0</td>\n",
       "      <td>...</td>\n",
       "      <td>11</td>\n",
       "      <td>3890</td>\n",
       "      <td>1530</td>\n",
       "      <td>2001</td>\n",
       "      <td>0</td>\n",
       "      <td>98053</td>\n",
       "      <td>47.6561</td>\n",
       "      <td>-122.005</td>\n",
       "      <td>4760</td>\n",
       "      <td>101930</td>\n",
       "    </tr>\n",
       "    <tr>\n",
       "      <th>6</th>\n",
       "      <td>1321400060</td>\n",
       "      <td>20140627T000000</td>\n",
       "      <td>257500.0</td>\n",
       "      <td>3</td>\n",
       "      <td>2.25</td>\n",
       "      <td>1715</td>\n",
       "      <td>6819</td>\n",
       "      <td>2.0</td>\n",
       "      <td>0</td>\n",
       "      <td>0</td>\n",
       "      <td>...</td>\n",
       "      <td>7</td>\n",
       "      <td>1715</td>\n",
       "      <td>0</td>\n",
       "      <td>1995</td>\n",
       "      <td>0</td>\n",
       "      <td>98003</td>\n",
       "      <td>47.3097</td>\n",
       "      <td>-122.327</td>\n",
       "      <td>2238</td>\n",
       "      <td>6819</td>\n",
       "    </tr>\n",
       "    <tr>\n",
       "      <th>7</th>\n",
       "      <td>2008000270</td>\n",
       "      <td>20150115T000000</td>\n",
       "      <td>291850.0</td>\n",
       "      <td>3</td>\n",
       "      <td>1.50</td>\n",
       "      <td>1060</td>\n",
       "      <td>9711</td>\n",
       "      <td>1.0</td>\n",
       "      <td>0</td>\n",
       "      <td>0</td>\n",
       "      <td>...</td>\n",
       "      <td>7</td>\n",
       "      <td>1060</td>\n",
       "      <td>0</td>\n",
       "      <td>1963</td>\n",
       "      <td>0</td>\n",
       "      <td>98198</td>\n",
       "      <td>47.4095</td>\n",
       "      <td>-122.315</td>\n",
       "      <td>1650</td>\n",
       "      <td>9711</td>\n",
       "    </tr>\n",
       "    <tr>\n",
       "      <th>8</th>\n",
       "      <td>2414600126</td>\n",
       "      <td>20150415T000000</td>\n",
       "      <td>229500.0</td>\n",
       "      <td>3</td>\n",
       "      <td>1.00</td>\n",
       "      <td>1780</td>\n",
       "      <td>7470</td>\n",
       "      <td>1.0</td>\n",
       "      <td>0</td>\n",
       "      <td>0</td>\n",
       "      <td>...</td>\n",
       "      <td>7</td>\n",
       "      <td>1050</td>\n",
       "      <td>730</td>\n",
       "      <td>1960</td>\n",
       "      <td>0</td>\n",
       "      <td>98146</td>\n",
       "      <td>47.5123</td>\n",
       "      <td>-122.337</td>\n",
       "      <td>1780</td>\n",
       "      <td>8113</td>\n",
       "    </tr>\n",
       "    <tr>\n",
       "      <th>9</th>\n",
       "      <td>3793500160</td>\n",
       "      <td>20150312T000000</td>\n",
       "      <td>323000.0</td>\n",
       "      <td>3</td>\n",
       "      <td>2.50</td>\n",
       "      <td>1890</td>\n",
       "      <td>6560</td>\n",
       "      <td>2.0</td>\n",
       "      <td>0</td>\n",
       "      <td>0</td>\n",
       "      <td>...</td>\n",
       "      <td>7</td>\n",
       "      <td>1890</td>\n",
       "      <td>0</td>\n",
       "      <td>2003</td>\n",
       "      <td>0</td>\n",
       "      <td>98038</td>\n",
       "      <td>47.3684</td>\n",
       "      <td>-122.031</td>\n",
       "      <td>2390</td>\n",
       "      <td>7570</td>\n",
       "    </tr>\n",
       "  </tbody>\n",
       "</table>\n",
       "<p>10 rows × 21 columns</p>\n",
       "</div>"
      ],
      "text/plain": [
       "           id             date      price  bedrooms  bathrooms  sqft_living  \\\n",
       "0  7129300520  20141013T000000   221900.0         3       1.00         1180   \n",
       "1  6414100192  20141209T000000   538000.0         3       2.25         2570   \n",
       "2  5631500400  20150225T000000   180000.0         2       1.00          770   \n",
       "3  2487200875  20141209T000000   604000.0         4       3.00         1960   \n",
       "4  1954400510  20150218T000000   510000.0         3       2.00         1680   \n",
       "5  7237550310  20140512T000000  1225000.0         4       4.50         5420   \n",
       "6  1321400060  20140627T000000   257500.0         3       2.25         1715   \n",
       "7  2008000270  20150115T000000   291850.0         3       1.50         1060   \n",
       "8  2414600126  20150415T000000   229500.0         3       1.00         1780   \n",
       "9  3793500160  20150312T000000   323000.0         3       2.50         1890   \n",
       "\n",
       "   sqft_lot  floors  waterfront  view     ...      grade  sqft_above  \\\n",
       "0      5650     1.0           0     0     ...          7        1180   \n",
       "1      7242     2.0           0     0     ...          7        2170   \n",
       "2     10000     1.0           0     0     ...          6         770   \n",
       "3      5000     1.0           0     0     ...          7        1050   \n",
       "4      8080     1.0           0     0     ...          8        1680   \n",
       "5    101930     1.0           0     0     ...         11        3890   \n",
       "6      6819     2.0           0     0     ...          7        1715   \n",
       "7      9711     1.0           0     0     ...          7        1060   \n",
       "8      7470     1.0           0     0     ...          7        1050   \n",
       "9      6560     2.0           0     0     ...          7        1890   \n",
       "\n",
       "   sqft_basement  yr_built  yr_renovated  zipcode      lat     long  \\\n",
       "0              0      1955             0    98178  47.5112 -122.257   \n",
       "1            400      1951          1991    98125  47.7210 -122.319   \n",
       "2              0      1933             0    98028  47.7379 -122.233   \n",
       "3            910      1965             0    98136  47.5208 -122.393   \n",
       "4              0      1987             0    98074  47.6168 -122.045   \n",
       "5           1530      2001             0    98053  47.6561 -122.005   \n",
       "6              0      1995             0    98003  47.3097 -122.327   \n",
       "7              0      1963             0    98198  47.4095 -122.315   \n",
       "8            730      1960             0    98146  47.5123 -122.337   \n",
       "9              0      2003             0    98038  47.3684 -122.031   \n",
       "\n",
       "   sqft_living15  sqft_lot15  \n",
       "0           1340        5650  \n",
       "1           1690        7639  \n",
       "2           2720        8062  \n",
       "3           1360        5000  \n",
       "4           1800        7503  \n",
       "5           4760      101930  \n",
       "6           2238        6819  \n",
       "7           1650        9711  \n",
       "8           1780        8113  \n",
       "9           2390        7570  \n",
       "\n",
       "[10 rows x 21 columns]"
      ]
     },
     "execution_count": 3,
     "metadata": {},
     "output_type": "execute_result"
    }
   ],
   "source": [
    "data = pd.read_csv('https://raw.githubusercontent.com/Shreyas3108/house-price-prediction/master/kc_house_data.csv')\n",
    "dt = data.head(10)\n",
    "dt"
   ]
  },
  {
   "cell_type": "markdown",
   "metadata": {},
   "source": [
    "- We will now check if our data set contains any null values or not."
   ]
  },
  {
   "cell_type": "code",
   "execution_count": 5,
   "metadata": {},
   "outputs": [
    {
     "data": {
      "text/plain": [
       "id               0\n",
       "date             0\n",
       "price            0\n",
       "bedrooms         0\n",
       "bathrooms        0\n",
       "sqft_living      0\n",
       "sqft_lot         0\n",
       "floors           0\n",
       "waterfront       0\n",
       "view             0\n",
       "condition        0\n",
       "grade            0\n",
       "sqft_above       0\n",
       "sqft_basement    0\n",
       "yr_built         0\n",
       "yr_renovated     0\n",
       "zipcode          0\n",
       "lat              0\n",
       "long             0\n",
       "sqft_living15    0\n",
       "sqft_lot15       0\n",
       "dtype: int64"
      ]
     },
     "execution_count": 5,
     "metadata": {},
     "output_type": "execute_result"
    }
   ],
   "source": [
    "dt.isnull().sum()"
   ]
  },
  {
   "cell_type": "markdown",
   "metadata": {},
   "source": [
    "There is No null value present."
   ]
  },
  {
   "cell_type": "markdown",
   "metadata": {},
   "source": [
    "- We will now describe the data set using the describe function which tells us about the statistical data related to the data set."
   ]
  },
  {
   "cell_type": "code",
   "execution_count": 7,
   "metadata": {},
   "outputs": [
    {
     "data": {
      "text/html": [
       "<div>\n",
       "<style scoped>\n",
       "    .dataframe tbody tr th:only-of-type {\n",
       "        vertical-align: middle;\n",
       "    }\n",
       "\n",
       "    .dataframe tbody tr th {\n",
       "        vertical-align: top;\n",
       "    }\n",
       "\n",
       "    .dataframe thead th {\n",
       "        text-align: right;\n",
       "    }\n",
       "</style>\n",
       "<table border=\"1\" class=\"dataframe\">\n",
       "  <thead>\n",
       "    <tr style=\"text-align: right;\">\n",
       "      <th></th>\n",
       "      <th>id</th>\n",
       "      <th>price</th>\n",
       "      <th>bedrooms</th>\n",
       "      <th>bathrooms</th>\n",
       "      <th>sqft_living</th>\n",
       "      <th>sqft_lot</th>\n",
       "      <th>floors</th>\n",
       "      <th>waterfront</th>\n",
       "      <th>view</th>\n",
       "      <th>condition</th>\n",
       "      <th>grade</th>\n",
       "      <th>sqft_above</th>\n",
       "      <th>sqft_basement</th>\n",
       "      <th>yr_built</th>\n",
       "      <th>yr_renovated</th>\n",
       "      <th>zipcode</th>\n",
       "      <th>lat</th>\n",
       "      <th>long</th>\n",
       "      <th>sqft_living15</th>\n",
       "      <th>sqft_lot15</th>\n",
       "    </tr>\n",
       "  </thead>\n",
       "  <tbody>\n",
       "    <tr>\n",
       "      <th>count</th>\n",
       "      <td>1.000000e+01</td>\n",
       "      <td>1.000000e+01</td>\n",
       "      <td>10.000000</td>\n",
       "      <td>10.000000</td>\n",
       "      <td>10.000000</td>\n",
       "      <td>10.000000</td>\n",
       "      <td>10.000000</td>\n",
       "      <td>10.0</td>\n",
       "      <td>10.0</td>\n",
       "      <td>10.000000</td>\n",
       "      <td>10.000000</td>\n",
       "      <td>10.000000</td>\n",
       "      <td>10.00000</td>\n",
       "      <td>10.000000</td>\n",
       "      <td>10.000000</td>\n",
       "      <td>10.000000</td>\n",
       "      <td>10.000000</td>\n",
       "      <td>10.000000</td>\n",
       "      <td>10.000000</td>\n",
       "      <td>10.000000</td>\n",
       "    </tr>\n",
       "    <tr>\n",
       "      <th>mean</th>\n",
       "      <td>4.039155e+09</td>\n",
       "      <td>4.380750e+05</td>\n",
       "      <td>3.100000</td>\n",
       "      <td>2.100000</td>\n",
       "      <td>2002.500000</td>\n",
       "      <td>16846.200000</td>\n",
       "      <td>1.300000</td>\n",
       "      <td>0.0</td>\n",
       "      <td>0.0</td>\n",
       "      <td>3.200000</td>\n",
       "      <td>7.400000</td>\n",
       "      <td>1645.500000</td>\n",
       "      <td>357.00000</td>\n",
       "      <td>1971.300000</td>\n",
       "      <td>199.100000</td>\n",
       "      <td>98097.900000</td>\n",
       "      <td>47.536370</td>\n",
       "      <td>-122.226200</td>\n",
       "      <td>2172.800000</td>\n",
       "      <td>16799.700000</td>\n",
       "    </tr>\n",
       "    <tr>\n",
       "      <th>std</th>\n",
       "      <td>2.331445e+09</td>\n",
       "      <td>3.137603e+05</td>\n",
       "      <td>0.567646</td>\n",
       "      <td>1.094177</td>\n",
       "      <td>1305.367658</td>\n",
       "      <td>29937.105556</td>\n",
       "      <td>0.483046</td>\n",
       "      <td>0.0</td>\n",
       "      <td>0.0</td>\n",
       "      <td>0.632456</td>\n",
       "      <td>1.349897</td>\n",
       "      <td>907.617302</td>\n",
       "      <td>536.18094</td>\n",
       "      <td>23.748918</td>\n",
       "      <td>629.609482</td>\n",
       "      <td>67.497243</td>\n",
       "      <td>0.146307</td>\n",
       "      <td>0.144383</td>\n",
       "      <td>1010.959149</td>\n",
       "      <td>29940.536112</td>\n",
       "    </tr>\n",
       "    <tr>\n",
       "      <th>min</th>\n",
       "      <td>1.321400e+09</td>\n",
       "      <td>1.800000e+05</td>\n",
       "      <td>2.000000</td>\n",
       "      <td>1.000000</td>\n",
       "      <td>770.000000</td>\n",
       "      <td>5000.000000</td>\n",
       "      <td>1.000000</td>\n",
       "      <td>0.0</td>\n",
       "      <td>0.0</td>\n",
       "      <td>3.000000</td>\n",
       "      <td>6.000000</td>\n",
       "      <td>770.000000</td>\n",
       "      <td>0.00000</td>\n",
       "      <td>1933.000000</td>\n",
       "      <td>0.000000</td>\n",
       "      <td>98003.000000</td>\n",
       "      <td>47.309700</td>\n",
       "      <td>-122.393000</td>\n",
       "      <td>1340.000000</td>\n",
       "      <td>5000.000000</td>\n",
       "    </tr>\n",
       "    <tr>\n",
       "      <th>25%</th>\n",
       "      <td>2.109650e+09</td>\n",
       "      <td>2.365000e+05</td>\n",
       "      <td>3.000000</td>\n",
       "      <td>1.125000</td>\n",
       "      <td>1305.000000</td>\n",
       "      <td>6624.750000</td>\n",
       "      <td>1.000000</td>\n",
       "      <td>0.0</td>\n",
       "      <td>0.0</td>\n",
       "      <td>3.000000</td>\n",
       "      <td>7.000000</td>\n",
       "      <td>1052.500000</td>\n",
       "      <td>0.00000</td>\n",
       "      <td>1956.250000</td>\n",
       "      <td>0.000000</td>\n",
       "      <td>98041.750000</td>\n",
       "      <td>47.434925</td>\n",
       "      <td>-122.325000</td>\n",
       "      <td>1660.000000</td>\n",
       "      <td>6990.000000</td>\n",
       "    </tr>\n",
       "    <tr>\n",
       "      <th>50%</th>\n",
       "      <td>3.140351e+09</td>\n",
       "      <td>3.074250e+05</td>\n",
       "      <td>3.000000</td>\n",
       "      <td>2.125000</td>\n",
       "      <td>1747.500000</td>\n",
       "      <td>7356.000000</td>\n",
       "      <td>1.000000</td>\n",
       "      <td>0.0</td>\n",
       "      <td>0.0</td>\n",
       "      <td>3.000000</td>\n",
       "      <td>7.000000</td>\n",
       "      <td>1430.000000</td>\n",
       "      <td>0.00000</td>\n",
       "      <td>1964.000000</td>\n",
       "      <td>0.000000</td>\n",
       "      <td>98099.500000</td>\n",
       "      <td>47.516550</td>\n",
       "      <td>-122.286000</td>\n",
       "      <td>1790.000000</td>\n",
       "      <td>7604.500000</td>\n",
       "    </tr>\n",
       "    <tr>\n",
       "      <th>75%</th>\n",
       "      <td>6.218450e+09</td>\n",
       "      <td>5.310000e+05</td>\n",
       "      <td>3.000000</td>\n",
       "      <td>2.437500</td>\n",
       "      <td>1942.500000</td>\n",
       "      <td>9303.250000</td>\n",
       "      <td>1.750000</td>\n",
       "      <td>0.0</td>\n",
       "      <td>0.0</td>\n",
       "      <td>3.000000</td>\n",
       "      <td>7.000000</td>\n",
       "      <td>1846.250000</td>\n",
       "      <td>647.50000</td>\n",
       "      <td>1993.000000</td>\n",
       "      <td>0.000000</td>\n",
       "      <td>98143.500000</td>\n",
       "      <td>47.646275</td>\n",
       "      <td>-122.092000</td>\n",
       "      <td>2352.000000</td>\n",
       "      <td>8100.250000</td>\n",
       "    </tr>\n",
       "    <tr>\n",
       "      <th>max</th>\n",
       "      <td>7.237550e+09</td>\n",
       "      <td>1.225000e+06</td>\n",
       "      <td>4.000000</td>\n",
       "      <td>4.500000</td>\n",
       "      <td>5420.000000</td>\n",
       "      <td>101930.000000</td>\n",
       "      <td>2.000000</td>\n",
       "      <td>0.0</td>\n",
       "      <td>0.0</td>\n",
       "      <td>5.000000</td>\n",
       "      <td>11.000000</td>\n",
       "      <td>3890.000000</td>\n",
       "      <td>1530.00000</td>\n",
       "      <td>2003.000000</td>\n",
       "      <td>1991.000000</td>\n",
       "      <td>98198.000000</td>\n",
       "      <td>47.737900</td>\n",
       "      <td>-122.005000</td>\n",
       "      <td>4760.000000</td>\n",
       "      <td>101930.000000</td>\n",
       "    </tr>\n",
       "  </tbody>\n",
       "</table>\n",
       "</div>"
      ],
      "text/plain": [
       "                 id         price   bedrooms  bathrooms  sqft_living  \\\n",
       "count  1.000000e+01  1.000000e+01  10.000000  10.000000    10.000000   \n",
       "mean   4.039155e+09  4.380750e+05   3.100000   2.100000  2002.500000   \n",
       "std    2.331445e+09  3.137603e+05   0.567646   1.094177  1305.367658   \n",
       "min    1.321400e+09  1.800000e+05   2.000000   1.000000   770.000000   \n",
       "25%    2.109650e+09  2.365000e+05   3.000000   1.125000  1305.000000   \n",
       "50%    3.140351e+09  3.074250e+05   3.000000   2.125000  1747.500000   \n",
       "75%    6.218450e+09  5.310000e+05   3.000000   2.437500  1942.500000   \n",
       "max    7.237550e+09  1.225000e+06   4.000000   4.500000  5420.000000   \n",
       "\n",
       "            sqft_lot     floors  waterfront  view  condition      grade  \\\n",
       "count      10.000000  10.000000        10.0  10.0  10.000000  10.000000   \n",
       "mean    16846.200000   1.300000         0.0   0.0   3.200000   7.400000   \n",
       "std     29937.105556   0.483046         0.0   0.0   0.632456   1.349897   \n",
       "min      5000.000000   1.000000         0.0   0.0   3.000000   6.000000   \n",
       "25%      6624.750000   1.000000         0.0   0.0   3.000000   7.000000   \n",
       "50%      7356.000000   1.000000         0.0   0.0   3.000000   7.000000   \n",
       "75%      9303.250000   1.750000         0.0   0.0   3.000000   7.000000   \n",
       "max    101930.000000   2.000000         0.0   0.0   5.000000  11.000000   \n",
       "\n",
       "        sqft_above  sqft_basement     yr_built  yr_renovated       zipcode  \\\n",
       "count    10.000000       10.00000    10.000000     10.000000     10.000000   \n",
       "mean   1645.500000      357.00000  1971.300000    199.100000  98097.900000   \n",
       "std     907.617302      536.18094    23.748918    629.609482     67.497243   \n",
       "min     770.000000        0.00000  1933.000000      0.000000  98003.000000   \n",
       "25%    1052.500000        0.00000  1956.250000      0.000000  98041.750000   \n",
       "50%    1430.000000        0.00000  1964.000000      0.000000  98099.500000   \n",
       "75%    1846.250000      647.50000  1993.000000      0.000000  98143.500000   \n",
       "max    3890.000000     1530.00000  2003.000000   1991.000000  98198.000000   \n",
       "\n",
       "             lat        long  sqft_living15     sqft_lot15  \n",
       "count  10.000000   10.000000      10.000000      10.000000  \n",
       "mean   47.536370 -122.226200    2172.800000   16799.700000  \n",
       "std     0.146307    0.144383    1010.959149   29940.536112  \n",
       "min    47.309700 -122.393000    1340.000000    5000.000000  \n",
       "25%    47.434925 -122.325000    1660.000000    6990.000000  \n",
       "50%    47.516550 -122.286000    1790.000000    7604.500000  \n",
       "75%    47.646275 -122.092000    2352.000000    8100.250000  \n",
       "max    47.737900 -122.005000    4760.000000  101930.000000  "
      ]
     },
     "execution_count": 7,
     "metadata": {},
     "output_type": "execute_result"
    }
   ],
   "source": [
    "dt.describe()"
   ]
  },
  {
   "cell_type": "markdown",
   "metadata": {},
   "source": [
    "### Univariate Analysis\n",
    "\n",
    "__Univariate refers to an expression of only one variable. This is the simplest method of analysis.__"
   ]
  },
  {
   "cell_type": "code",
   "execution_count": 8,
   "metadata": {},
   "outputs": [
    {
     "data": {
      "image/png": "[encoded data removed]",
      "text/plain": [
       "<Figure size 432x288 with 1 Axes>"
      ]
     },
     "metadata": {},
     "output_type": "display_data"
    }
   ],
   "source": [
    "plt.hist(x = 'price', data = dt)\n",
    "sns.despine()"
   ]
  },
  {
   "cell_type": "code",
   "execution_count": 9,
   "metadata": {},
   "outputs": [
    {
     "data": {
      "image/png": "[encoded data removed]",
      "text/plain": [
       "<Figure size 432x288 with 1 Axes>"
      ]
     },
     "metadata": {},
     "output_type": "display_data"
    }
   ],
   "source": [
    "sns.countplot(x='bedrooms', data= dt)\n",
    "sns.despine()"
   ]
  },
  {
   "cell_type": "code",
   "execution_count": 10,
   "metadata": {},
   "outputs": [
    {
     "data": {
      "text/plain": [
       "<matplotlib.axes._subplots.AxesSubplot at 0x1a1af8419e8>"
      ]
     },
     "execution_count": 10,
     "metadata": {},
     "output_type": "execute_result"
    },
    {
     "data": {
      "image/png": "[encoded data removed]",
      "text/plain": [
       "<Figure size 432x288 with 1 Axes>"
      ]
     },
     "metadata": {},
     "output_type": "display_data"
    }
   ],
   "source": [
    "sns.countplot(x = 'bathrooms', data = dt)"
   ]
  },
  {
   "cell_type": "code",
   "execution_count": 19,
   "metadata": {},
   "outputs": [
    {
     "data": {
      "image/png": "[encoded data removed]",
      "text/plain": [
       "<Figure size 432x288 with 1 Axes>"
      ]
     },
     "metadata": {},
     "output_type": "display_data"
    }
   ],
   "source": [
    "plt.hist(x = 'sqft_living', data = dt)\n",
    "sns.despine()"
   ]
  },
  {
   "cell_type": "code",
   "execution_count": 13,
   "metadata": {},
   "outputs": [
    {
     "name": "stderr",
     "output_type": "stream",
     "text": [
      "C:\\ProgramData\\Anaconda3\\lib\\site-packages\\matplotlib\\axes\\_axes.py:6462: UserWarning: The 'normed' kwarg is deprecated, and has been replaced by the 'density' kwarg.\n",
      "  warnings.warn(\"The 'normed' kwarg is deprecated, and has been \"\n"
     ]
    },
    {
     "data": {
      "image/png": "[encoded data removed]",
      "text/plain": [
       "<Figure size 432x288 with 1 Axes>"
      ]
     },
     "metadata": {},
     "output_type": "display_data"
    }
   ],
   "source": [
    "sns.distplot(dt['sqft_lot'])\n",
    "sns.despine()"
   ]
  },
  {
   "cell_type": "code",
   "execution_count": 20,
   "metadata": {},
   "outputs": [
    {
     "data": {
      "image/png": "[encoded data removed]",
      "text/plain": [
       "<Figure size 432x288 with 1 Axes>"
      ]
     },
     "metadata": {},
     "output_type": "display_data"
    }
   ],
   "source": [
    "sns.countplot(x = 'floors', data = dt)\n",
    "sns.despine()"
   ]
  },
  {
   "cell_type": "code",
   "execution_count": 23,
   "metadata": {},
   "outputs": [
    {
     "name": "stderr",
     "output_type": "stream",
     "text": [
      "C:\\ProgramData\\Anaconda3\\lib\\site-packages\\matplotlib\\axes\\_axes.py:6462: UserWarning: The 'normed' kwarg is deprecated, and has been replaced by the 'density' kwarg.\n",
      "  warnings.warn(\"The 'normed' kwarg is deprecated, and has been \"\n"
     ]
    },
    {
     "data": {
      "image/png": "[encoded data removed]",
      "text/plain": [
       "<Figure size 432x288 with 1 Axes>"
      ]
     },
     "metadata": {},
     "output_type": "display_data"
    }
   ],
   "source": [
    "sns.distplot(dt['yr_built'])\n",
    "sns.despine()"
   ]
  },
  {
   "cell_type": "code",
   "execution_count": 24,
   "metadata": {},
   "outputs": [
    {
     "data": {
      "image/png": "[encoded data removed]",
      "text/plain": [
       "<Figure size 432x288 with 1 Axes>"
      ]
     },
     "metadata": {},
     "output_type": "display_data"
    }
   ],
   "source": [
    "plt.hist(x = 'zipcode', data =dt)\n",
    "sns.despine()"
   ]
  },
  {
   "cell_type": "code",
   "execution_count": 26,
   "metadata": {},
   "outputs": [
    {
     "name": "stderr",
     "output_type": "stream",
     "text": [
      "C:\\ProgramData\\Anaconda3\\lib\\site-packages\\matplotlib\\axes\\_axes.py:6462: UserWarning: The 'normed' kwarg is deprecated, and has been replaced by the 'density' kwarg.\n",
      "  warnings.warn(\"The 'normed' kwarg is deprecated, and has been \"\n"
     ]
    },
    {
     "data": {
      "image/png": "[encoded data removed]",
      "text/plain": [
       "<Figure size 432x288 with 1 Axes>"
      ]
     },
     "metadata": {},
     "output_type": "display_data"
    }
   ],
   "source": [
    "sns.distplot(dt['lat'])\n",
    "sns.despine()"
   ]
  },
  {
   "cell_type": "code",
   "execution_count": 28,
   "metadata": {},
   "outputs": [
    {
     "name": "stderr",
     "output_type": "stream",
     "text": [
      "C:\\ProgramData\\Anaconda3\\lib\\site-packages\\matplotlib\\axes\\_axes.py:6462: UserWarning: The 'normed' kwarg is deprecated, and has been replaced by the 'density' kwarg.\n",
      "  warnings.warn(\"The 'normed' kwarg is deprecated, and has been \"\n"
     ]
    },
    {
     "data": {
      "image/png": "[encoded data removed]",
      "text/plain": [
       "<Figure size 432x288 with 1 Axes>"
      ]
     },
     "metadata": {},
     "output_type": "display_data"
    }
   ],
   "source": [
    "sns.distplot(dt['long'])\n",
    "sns.despine()"
   ]
  },
  {
   "cell_type": "markdown",
   "metadata": {},
   "source": [
    "### Bivariate Analysis\n",
    "\n",
    "__Bivariate refers to an expression of only two variable. It tells us about the relation between the two variable.__"
   ]
  },
  {
   "cell_type": "code",
   "execution_count": 30,
   "metadata": {},
   "outputs": [
    {
     "data": {
      "text/html": [
       "<div>\n",
       "<style scoped>\n",
       "    .dataframe tbody tr th:only-of-type {\n",
       "        vertical-align: middle;\n",
       "    }\n",
       "\n",
       "    .dataframe tbody tr th {\n",
       "        vertical-align: top;\n",
       "    }\n",
       "\n",
       "    .dataframe thead th {\n",
       "        text-align: right;\n",
       "    }\n",
       "</style>\n",
       "<table border=\"1\" class=\"dataframe\">\n",
       "  <thead>\n",
       "    <tr style=\"text-align: right;\">\n",
       "      <th></th>\n",
       "      <th>id</th>\n",
       "      <th>price</th>\n",
       "      <th>bedrooms</th>\n",
       "      <th>bathrooms</th>\n",
       "      <th>sqft_living</th>\n",
       "      <th>sqft_lot</th>\n",
       "      <th>floors</th>\n",
       "      <th>waterfront</th>\n",
       "      <th>view</th>\n",
       "      <th>condition</th>\n",
       "      <th>grade</th>\n",
       "      <th>sqft_above</th>\n",
       "      <th>sqft_basement</th>\n",
       "      <th>yr_built</th>\n",
       "      <th>yr_renovated</th>\n",
       "      <th>zipcode</th>\n",
       "      <th>lat</th>\n",
       "      <th>long</th>\n",
       "      <th>sqft_living15</th>\n",
       "      <th>sqft_lot15</th>\n",
       "    </tr>\n",
       "  </thead>\n",
       "  <tbody>\n",
       "    <tr>\n",
       "      <th>id</th>\n",
       "      <td>1.000000</td>\n",
       "      <td>0.367985</td>\n",
       "      <td>0.004542</td>\n",
       "      <td>0.182635</td>\n",
       "      <td>0.423402</td>\n",
       "      <td>0.477555</td>\n",
       "      <td>-0.058058</td>\n",
       "      <td>NaN</td>\n",
       "      <td>NaN</td>\n",
       "      <td>-0.233890</td>\n",
       "      <td>0.321854</td>\n",
       "      <td>0.438544</td>\n",
       "      <td>0.288455</td>\n",
       "      <td>-0.249859</td>\n",
       "      <td>0.357920</td>\n",
       "      <td>0.027420</td>\n",
       "      <td>0.610802</td>\n",
       "      <td>0.280091</td>\n",
       "      <td>0.421167</td>\n",
       "      <td>0.473946</td>\n",
       "    </tr>\n",
       "    <tr>\n",
       "      <th>price</th>\n",
       "      <td>0.367985</td>\n",
       "      <td>1.000000</td>\n",
       "      <td>0.755438</td>\n",
       "      <td>0.909927</td>\n",
       "      <td>0.938850</td>\n",
       "      <td>0.870373</td>\n",
       "      <td>-0.143489</td>\n",
       "      <td>NaN</td>\n",
       "      <td>NaN</td>\n",
       "      <td>0.185811</td>\n",
       "      <td>0.912328</td>\n",
       "      <td>0.865421</td>\n",
       "      <td>0.820755</td>\n",
       "      <td>0.454468</td>\n",
       "      <td>0.111901</td>\n",
       "      <td>-0.146580</td>\n",
       "      <td>0.370648</td>\n",
       "      <td>0.466990</td>\n",
       "      <td>0.695824</td>\n",
       "      <td>0.873206</td>\n",
       "    </tr>\n",
       "    <tr>\n",
       "      <th>bedrooms</th>\n",
       "      <td>0.004542</td>\n",
       "      <td>0.755438</td>\n",
       "      <td>1.000000</td>\n",
       "      <td>0.787127</td>\n",
       "      <td>0.690895</td>\n",
       "      <td>0.523618</td>\n",
       "      <td>-0.121566</td>\n",
       "      <td>NaN</td>\n",
       "      <td>NaN</td>\n",
       "      <td>0.557086</td>\n",
       "      <td>0.667017</td>\n",
       "      <td>0.544443</td>\n",
       "      <td>0.760427</td>\n",
       "      <td>0.508535</td>\n",
       "      <td>-0.061898</td>\n",
       "      <td>0.182988</td>\n",
       "      <td>-0.130269</td>\n",
       "      <td>0.082969</td>\n",
       "      <td>0.237608</td>\n",
       "      <td>0.536532</td>\n",
       "    </tr>\n",
       "    <tr>\n",
       "      <th>bathrooms</th>\n",
       "      <td>0.182635</td>\n",
       "      <td>0.909927</td>\n",
       "      <td>0.787127</td>\n",
       "      <td>1.000000</td>\n",
       "      <td>0.876234</td>\n",
       "      <td>0.752348</td>\n",
       "      <td>0.147157</td>\n",
       "      <td>NaN</td>\n",
       "      <td>NaN</td>\n",
       "      <td>0.289010</td>\n",
       "      <td>0.797398</td>\n",
       "      <td>0.840891</td>\n",
       "      <td>0.709836</td>\n",
       "      <td>0.661480</td>\n",
       "      <td>0.048168</td>\n",
       "      <td>-0.345126</td>\n",
       "      <td>0.069688</td>\n",
       "      <td>0.441827</td>\n",
       "      <td>0.662869</td>\n",
       "      <td>0.758861</td>\n",
       "    </tr>\n",
       "    <tr>\n",
       "      <th>sqft_living</th>\n",
       "      <td>0.423402</td>\n",
       "      <td>0.938850</td>\n",
       "      <td>0.690895</td>\n",
       "      <td>0.876234</td>\n",
       "      <td>1.000000</td>\n",
       "      <td>0.907429</td>\n",
       "      <td>0.029516</td>\n",
       "      <td>NaN</td>\n",
       "      <td>NaN</td>\n",
       "      <td>-0.011440</td>\n",
       "      <td>0.919351</td>\n",
       "      <td>0.945439</td>\n",
       "      <td>0.834179</td>\n",
       "      <td>0.522392</td>\n",
       "      <td>0.152753</td>\n",
       "      <td>-0.230438</td>\n",
       "      <td>0.273431</td>\n",
       "      <td>0.472229</td>\n",
       "      <td>0.780500</td>\n",
       "      <td>0.914555</td>\n",
       "    </tr>\n",
       "    <tr>\n",
       "      <th>sqft_lot</th>\n",
       "      <td>0.477555</td>\n",
       "      <td>0.870373</td>\n",
       "      <td>0.523618</td>\n",
       "      <td>0.752348</td>\n",
       "      <td>0.907429</td>\n",
       "      <td>1.000000</td>\n",
       "      <td>-0.229872</td>\n",
       "      <td>NaN</td>\n",
       "      <td>NaN</td>\n",
       "      <td>-0.139036</td>\n",
       "      <td>0.930458</td>\n",
       "      <td>0.860545</td>\n",
       "      <td>0.752512</td>\n",
       "      <td>0.422756</td>\n",
       "      <td>-0.112722</td>\n",
       "      <td>-0.238542</td>\n",
       "      <td>0.302559</td>\n",
       "      <td>0.544092</td>\n",
       "      <td>0.909610</td>\n",
       "      <td>0.999649</td>\n",
       "    </tr>\n",
       "    <tr>\n",
       "      <th>floors</th>\n",
       "      <td>-0.058058</td>\n",
       "      <td>-0.143489</td>\n",
       "      <td>-0.121566</td>\n",
       "      <td>0.147157</td>\n",
       "      <td>0.029516</td>\n",
       "      <td>-0.229872</td>\n",
       "      <td>1.000000</td>\n",
       "      <td>NaN</td>\n",
       "      <td>NaN</td>\n",
       "      <td>-0.218218</td>\n",
       "      <td>-0.204479</td>\n",
       "      <td>0.212505</td>\n",
       "      <td>-0.287859</td>\n",
       "      <td>0.339964</td>\n",
       "      <td>0.509175</td>\n",
       "      <td>-0.435185</td>\n",
       "      <td>-0.330175</td>\n",
       "      <td>0.002549</td>\n",
       "      <td>-0.045597</td>\n",
       "      <td>-0.217964</td>\n",
       "    </tr>\n",
       "    <tr>\n",
       "      <th>waterfront</th>\n",
       "      <td>NaN</td>\n",
       "      <td>NaN</td>\n",
       "      <td>NaN</td>\n",
       "      <td>NaN</td>\n",
       "      <td>NaN</td>\n",
       "      <td>NaN</td>\n",
       "      <td>NaN</td>\n",
       "      <td>NaN</td>\n",
       "      <td>NaN</td>\n",
       "      <td>NaN</td>\n",
       "      <td>NaN</td>\n",
       "      <td>NaN</td>\n",
       "      <td>NaN</td>\n",
       "      <td>NaN</td>\n",
       "      <td>NaN</td>\n",
       "      <td>NaN</td>\n",
       "      <td>NaN</td>\n",
       "      <td>NaN</td>\n",
       "      <td>NaN</td>\n",
       "      <td>NaN</td>\n",
       "    </tr>\n",
       "    <tr>\n",
       "      <th>view</th>\n",
       "      <td>NaN</td>\n",
       "      <td>NaN</td>\n",
       "      <td>NaN</td>\n",
       "      <td>NaN</td>\n",
       "      <td>NaN</td>\n",
       "      <td>NaN</td>\n",
       "      <td>NaN</td>\n",
       "      <td>NaN</td>\n",
       "      <td>NaN</td>\n",
       "      <td>NaN</td>\n",
       "      <td>NaN</td>\n",
       "      <td>NaN</td>\n",
       "      <td>NaN</td>\n",
       "      <td>NaN</td>\n",
       "      <td>NaN</td>\n",
       "      <td>NaN</td>\n",
       "      <td>NaN</td>\n",
       "      <td>NaN</td>\n",
       "      <td>NaN</td>\n",
       "      <td>NaN</td>\n",
       "    </tr>\n",
       "    <tr>\n",
       "      <th>condition</th>\n",
       "      <td>-0.233890</td>\n",
       "      <td>0.185811</td>\n",
       "      <td>0.557086</td>\n",
       "      <td>0.289010</td>\n",
       "      <td>-0.011440</td>\n",
       "      <td>-0.139036</td>\n",
       "      <td>-0.218218</td>\n",
       "      <td>NaN</td>\n",
       "      <td>NaN</td>\n",
       "      <td>1.000000</td>\n",
       "      <td>-0.104116</td>\n",
       "      <td>-0.230535</td>\n",
       "      <td>0.362386</td>\n",
       "      <td>-0.093208</td>\n",
       "      <td>-0.111111</td>\n",
       "      <td>0.198334</td>\n",
       "      <td>-0.037392</td>\n",
       "      <td>-0.405918</td>\n",
       "      <td>-0.282493</td>\n",
       "      <td>-0.138474</td>\n",
       "    </tr>\n",
       "    <tr>\n",
       "      <th>grade</th>\n",
       "      <td>0.321854</td>\n",
       "      <td>0.912328</td>\n",
       "      <td>0.667017</td>\n",
       "      <td>0.797398</td>\n",
       "      <td>0.919351</td>\n",
       "      <td>0.930458</td>\n",
       "      <td>-0.204479</td>\n",
       "      <td>NaN</td>\n",
       "      <td>NaN</td>\n",
       "      <td>-0.104116</td>\n",
       "      <td>1.000000</td>\n",
       "      <td>0.896732</td>\n",
       "      <td>0.720283</td>\n",
       "      <td>0.598903</td>\n",
       "      <td>-0.104116</td>\n",
       "      <td>-0.162921</td>\n",
       "      <td>0.201306</td>\n",
       "      <td>0.611590</td>\n",
       "      <td>0.767679</td>\n",
       "      <td>0.934605</td>\n",
       "    </tr>\n",
       "    <tr>\n",
       "      <th>sqft_above</th>\n",
       "      <td>0.438544</td>\n",
       "      <td>0.865421</td>\n",
       "      <td>0.544443</td>\n",
       "      <td>0.840891</td>\n",
       "      <td>0.945439</td>\n",
       "      <td>0.860545</td>\n",
       "      <td>0.212505</td>\n",
       "      <td>NaN</td>\n",
       "      <td>NaN</td>\n",
       "      <td>-0.230535</td>\n",
       "      <td>0.896732</td>\n",
       "      <td>1.000000</td>\n",
       "      <td>0.608989</td>\n",
       "      <td>0.631016</td>\n",
       "      <td>0.203049</td>\n",
       "      <td>-0.353057</td>\n",
       "      <td>0.204742</td>\n",
       "      <td>0.620974</td>\n",
       "      <td>0.790880</td>\n",
       "      <td>0.867598</td>\n",
       "    </tr>\n",
       "    <tr>\n",
       "      <th>sqft_basement</th>\n",
       "      <td>0.288455</td>\n",
       "      <td>0.820755</td>\n",
       "      <td>0.760427</td>\n",
       "      <td>0.709836</td>\n",
       "      <td>0.834179</td>\n",
       "      <td>0.752512</td>\n",
       "      <td>-0.287859</td>\n",
       "      <td>NaN</td>\n",
       "      <td>NaN</td>\n",
       "      <td>0.362386</td>\n",
       "      <td>0.720283</td>\n",
       "      <td>0.608989</td>\n",
       "      <td>1.000000</td>\n",
       "      <td>0.203650</td>\n",
       "      <td>0.028178</td>\n",
       "      <td>0.036618</td>\n",
       "      <td>0.319110</td>\n",
       "      <td>0.098522</td>\n",
       "      <td>0.561422</td>\n",
       "      <td>0.757922</td>\n",
       "    </tr>\n",
       "    <tr>\n",
       "      <th>yr_built</th>\n",
       "      <td>-0.249859</td>\n",
       "      <td>0.454468</td>\n",
       "      <td>0.508535</td>\n",
       "      <td>0.661480</td>\n",
       "      <td>0.522392</td>\n",
       "      <td>0.422756</td>\n",
       "      <td>0.339964</td>\n",
       "      <td>NaN</td>\n",
       "      <td>NaN</td>\n",
       "      <td>-0.093208</td>\n",
       "      <td>0.598903</td>\n",
       "      <td>0.631016</td>\n",
       "      <td>0.203650</td>\n",
       "      <td>1.000000</td>\n",
       "      <td>-0.300338</td>\n",
       "      <td>-0.460924</td>\n",
       "      <td>-0.496015</td>\n",
       "      <td>0.612422</td>\n",
       "      <td>0.443042</td>\n",
       "      <td>0.435499</td>\n",
       "    </tr>\n",
       "    <tr>\n",
       "      <th>yr_renovated</th>\n",
       "      <td>0.357920</td>\n",
       "      <td>0.111901</td>\n",
       "      <td>-0.061898</td>\n",
       "      <td>0.048168</td>\n",
       "      <td>0.152753</td>\n",
       "      <td>-0.112722</td>\n",
       "      <td>0.509175</td>\n",
       "      <td>NaN</td>\n",
       "      <td>NaN</td>\n",
       "      <td>-0.111111</td>\n",
       "      <td>-0.104116</td>\n",
       "      <td>0.203049</td>\n",
       "      <td>0.028178</td>\n",
       "      <td>-0.300338</td>\n",
       "      <td>1.000000</td>\n",
       "      <td>0.141072</td>\n",
       "      <td>0.443399</td>\n",
       "      <td>-0.225834</td>\n",
       "      <td>-0.167800</td>\n",
       "      <td>-0.107504</td>\n",
       "    </tr>\n",
       "    <tr>\n",
       "      <th>zipcode</th>\n",
       "      <td>0.027420</td>\n",
       "      <td>-0.146580</td>\n",
       "      <td>0.182988</td>\n",
       "      <td>-0.345126</td>\n",
       "      <td>-0.230438</td>\n",
       "      <td>-0.238542</td>\n",
       "      <td>-0.435185</td>\n",
       "      <td>NaN</td>\n",
       "      <td>NaN</td>\n",
       "      <td>0.198334</td>\n",
       "      <td>-0.162921</td>\n",
       "      <td>-0.353057</td>\n",
       "      <td>0.036618</td>\n",
       "      <td>-0.460924</td>\n",
       "      <td>0.141072</td>\n",
       "      <td>1.000000</td>\n",
       "      <td>-0.014357</td>\n",
       "      <td>-0.472804</td>\n",
       "      <td>-0.564515</td>\n",
       "      <td>-0.231343</td>\n",
       "    </tr>\n",
       "    <tr>\n",
       "      <th>lat</th>\n",
       "      <td>0.610802</td>\n",
       "      <td>0.370648</td>\n",
       "      <td>-0.130269</td>\n",
       "      <td>0.069688</td>\n",
       "      <td>0.273431</td>\n",
       "      <td>0.302559</td>\n",
       "      <td>-0.330175</td>\n",
       "      <td>NaN</td>\n",
       "      <td>NaN</td>\n",
       "      <td>-0.037392</td>\n",
       "      <td>0.201306</td>\n",
       "      <td>0.204742</td>\n",
       "      <td>0.319110</td>\n",
       "      <td>-0.496015</td>\n",
       "      <td>0.443399</td>\n",
       "      <td>-0.014357</td>\n",
       "      <td>1.000000</td>\n",
       "      <td>0.157376</td>\n",
       "      <td>0.269725</td>\n",
       "      <td>0.288604</td>\n",
       "    </tr>\n",
       "    <tr>\n",
       "      <th>long</th>\n",
       "      <td>0.280091</td>\n",
       "      <td>0.466990</td>\n",
       "      <td>0.082969</td>\n",
       "      <td>0.441827</td>\n",
       "      <td>0.472229</td>\n",
       "      <td>0.544092</td>\n",
       "      <td>0.002549</td>\n",
       "      <td>NaN</td>\n",
       "      <td>NaN</td>\n",
       "      <td>-0.405918</td>\n",
       "      <td>0.611590</td>\n",
       "      <td>0.620974</td>\n",
       "      <td>0.098522</td>\n",
       "      <td>0.612422</td>\n",
       "      <td>-0.225834</td>\n",
       "      <td>-0.472804</td>\n",
       "      <td>0.157376</td>\n",
       "      <td>1.000000</td>\n",
       "      <td>0.633955</td>\n",
       "      <td>0.543971</td>\n",
       "    </tr>\n",
       "    <tr>\n",
       "      <th>sqft_living15</th>\n",
       "      <td>0.421167</td>\n",
       "      <td>0.695824</td>\n",
       "      <td>0.237608</td>\n",
       "      <td>0.662869</td>\n",
       "      <td>0.780500</td>\n",
       "      <td>0.909610</td>\n",
       "      <td>-0.045597</td>\n",
       "      <td>NaN</td>\n",
       "      <td>NaN</td>\n",
       "      <td>-0.282493</td>\n",
       "      <td>0.767679</td>\n",
       "      <td>0.790880</td>\n",
       "      <td>0.561422</td>\n",
       "      <td>0.443042</td>\n",
       "      <td>-0.167800</td>\n",
       "      <td>-0.564515</td>\n",
       "      <td>0.269725</td>\n",
       "      <td>0.633955</td>\n",
       "      <td>1.000000</td>\n",
       "      <td>0.905577</td>\n",
       "    </tr>\n",
       "    <tr>\n",
       "      <th>sqft_lot15</th>\n",
       "      <td>0.473946</td>\n",
       "      <td>0.873206</td>\n",
       "      <td>0.536532</td>\n",
       "      <td>0.758861</td>\n",
       "      <td>0.914555</td>\n",
       "      <td>0.999649</td>\n",
       "      <td>-0.217964</td>\n",
       "      <td>NaN</td>\n",
       "      <td>NaN</td>\n",
       "      <td>-0.138474</td>\n",
       "      <td>0.934605</td>\n",
       "      <td>0.867598</td>\n",
       "      <td>0.757922</td>\n",
       "      <td>0.435499</td>\n",
       "      <td>-0.107504</td>\n",
       "      <td>-0.231343</td>\n",
       "      <td>0.288604</td>\n",
       "      <td>0.543971</td>\n",
       "      <td>0.905577</td>\n",
       "      <td>1.000000</td>\n",
       "    </tr>\n",
       "  </tbody>\n",
       "</table>\n",
       "</div>"
      ],
      "text/plain": [
       "                     id     price  bedrooms  bathrooms  sqft_living  sqft_lot  \\\n",
       "id             1.000000  0.367985  0.004542   0.182635     0.423402  0.477555   \n",
       "price          0.367985  1.000000  0.755438   0.909927     0.938850  0.870373   \n",
       "bedrooms       0.004542  0.755438  1.000000   0.787127     0.690895  0.523618   \n",
       "bathrooms      0.182635  0.909927  0.787127   1.000000     0.876234  0.752348   \n",
       "sqft_living    0.423402  0.938850  0.690895   0.876234     1.000000  0.907429   \n",
       "sqft_lot       0.477555  0.870373  0.523618   0.752348     0.907429  1.000000   \n",
       "floors        -0.058058 -0.143489 -0.121566   0.147157     0.029516 -0.229872   \n",
       "waterfront          NaN       NaN       NaN        NaN          NaN       NaN   \n",
       "view                NaN       NaN       NaN        NaN          NaN       NaN   \n",
       "condition     -0.233890  0.185811  0.557086   0.289010    -0.011440 -0.139036   \n",
       "grade          0.321854  0.912328  0.667017   0.797398     0.919351  0.930458   \n",
       "sqft_above     0.438544  0.865421  0.544443   0.840891     0.945439  0.860545   \n",
       "sqft_basement  0.288455  0.820755  0.760427   0.709836     0.834179  0.752512   \n",
       "yr_built      -0.249859  0.454468  0.508535   0.661480     0.522392  0.422756   \n",
       "yr_renovated   0.357920  0.111901 -0.061898   0.048168     0.152753 -0.112722   \n",
       "zipcode        0.027420 -0.146580  0.182988  -0.345126    -0.230438 -0.238542   \n",
       "lat            0.610802  0.370648 -0.130269   0.069688     0.273431  0.302559   \n",
       "long           0.280091  0.466990  0.082969   0.441827     0.472229  0.544092   \n",
       "sqft_living15  0.421167  0.695824  0.237608   0.662869     0.780500  0.909610   \n",
       "sqft_lot15     0.473946  0.873206  0.536532   0.758861     0.914555  0.999649   \n",
       "\n",
       "                 floors  waterfront  view  condition     grade  sqft_above  \\\n",
       "id            -0.058058         NaN   NaN  -0.233890  0.321854    0.438544   \n",
       "price         -0.143489         NaN   NaN   0.185811  0.912328    0.865421   \n",
       "bedrooms      -0.121566         NaN   NaN   0.557086  0.667017    0.544443   \n",
       "bathrooms      0.147157         NaN   NaN   0.289010  0.797398    0.840891   \n",
       "sqft_living    0.029516         NaN   NaN  -0.011440  0.919351    0.945439   \n",
       "sqft_lot      -0.229872         NaN   NaN  -0.139036  0.930458    0.860545   \n",
       "floors         1.000000         NaN   NaN  -0.218218 -0.204479    0.212505   \n",
       "waterfront          NaN         NaN   NaN        NaN       NaN         NaN   \n",
       "view                NaN         NaN   NaN        NaN       NaN         NaN   \n",
       "condition     -0.218218         NaN   NaN   1.000000 -0.104116   -0.230535   \n",
       "grade         -0.204479         NaN   NaN  -0.104116  1.000000    0.896732   \n",
       "sqft_above     0.212505         NaN   NaN  -0.230535  0.896732    1.000000   \n",
       "sqft_basement -0.287859         NaN   NaN   0.362386  0.720283    0.608989   \n",
       "yr_built       0.339964         NaN   NaN  -0.093208  0.598903    0.631016   \n",
       "yr_renovated   0.509175         NaN   NaN  -0.111111 -0.104116    0.203049   \n",
       "zipcode       -0.435185         NaN   NaN   0.198334 -0.162921   -0.353057   \n",
       "lat           -0.330175         NaN   NaN  -0.037392  0.201306    0.204742   \n",
       "long           0.002549         NaN   NaN  -0.405918  0.611590    0.620974   \n",
       "sqft_living15 -0.045597         NaN   NaN  -0.282493  0.767679    0.790880   \n",
       "sqft_lot15    -0.217964         NaN   NaN  -0.138474  0.934605    0.867598   \n",
       "\n",
       "               sqft_basement  yr_built  yr_renovated   zipcode       lat  \\\n",
       "id                  0.288455 -0.249859      0.357920  0.027420  0.610802   \n",
       "price               0.820755  0.454468      0.111901 -0.146580  0.370648   \n",
       "bedrooms            0.760427  0.508535     -0.061898  0.182988 -0.130269   \n",
       "bathrooms           0.709836  0.661480      0.048168 -0.345126  0.069688   \n",
       "sqft_living         0.834179  0.522392      0.152753 -0.230438  0.273431   \n",
       "sqft_lot            0.752512  0.422756     -0.112722 -0.238542  0.302559   \n",
       "floors             -0.287859  0.339964      0.509175 -0.435185 -0.330175   \n",
       "waterfront               NaN       NaN           NaN       NaN       NaN   \n",
       "view                     NaN       NaN           NaN       NaN       NaN   \n",
       "condition           0.362386 -0.093208     -0.111111  0.198334 -0.037392   \n",
       "grade               0.720283  0.598903     -0.104116 -0.162921  0.201306   \n",
       "sqft_above          0.608989  0.631016      0.203049 -0.353057  0.204742   \n",
       "sqft_basement       1.000000  0.203650      0.028178  0.036618  0.319110   \n",
       "yr_built            0.203650  1.000000     -0.300338 -0.460924 -0.496015   \n",
       "yr_renovated        0.028178 -0.300338      1.000000  0.141072  0.443399   \n",
       "zipcode             0.036618 -0.460924      0.141072  1.000000 -0.014357   \n",
       "lat                 0.319110 -0.496015      0.443399 -0.014357  1.000000   \n",
       "long                0.098522  0.612422     -0.225834 -0.472804  0.157376   \n",
       "sqft_living15       0.561422  0.443042     -0.167800 -0.564515  0.269725   \n",
       "sqft_lot15          0.757922  0.435499     -0.107504 -0.231343  0.288604   \n",
       "\n",
       "                   long  sqft_living15  sqft_lot15  \n",
       "id             0.280091       0.421167    0.473946  \n",
       "price          0.466990       0.695824    0.873206  \n",
       "bedrooms       0.082969       0.237608    0.536532  \n",
       "bathrooms      0.441827       0.662869    0.758861  \n",
       "sqft_living    0.472229       0.780500    0.914555  \n",
       "sqft_lot       0.544092       0.909610    0.999649  \n",
       "floors         0.002549      -0.045597   -0.217964  \n",
       "waterfront          NaN            NaN         NaN  \n",
       "view                NaN            NaN         NaN  \n",
       "condition     -0.405918      -0.282493   -0.138474  \n",
       "grade          0.611590       0.767679    0.934605  \n",
       "sqft_above     0.620974       0.790880    0.867598  \n",
       "sqft_basement  0.098522       0.561422    0.757922  \n",
       "yr_built       0.612422       0.443042    0.435499  \n",
       "yr_renovated  -0.225834      -0.167800   -0.107504  \n",
       "zipcode       -0.472804      -0.564515   -0.231343  \n",
       "lat            0.157376       0.269725    0.288604  \n",
       "long           1.000000       0.633955    0.543971  \n",
       "sqft_living15  0.633955       1.000000    0.905577  \n",
       "sqft_lot15     0.543971       0.905577    1.000000  "
      ]
     },
     "execution_count": 30,
     "metadata": {},
     "output_type": "execute_result"
    }
   ],
   "source": [
    "dt.corr()"
   ]
  },
  {
   "cell_type": "code",
   "execution_count": 33,
   "metadata": {},
   "outputs": [
    {
     "data": {
      "image/png": "[encoded data removed]",
      "text/plain": [
       "<Figure size 720x864 with 2 Axes>"
      ]
     },
     "metadata": {},
     "output_type": "display_data"
    }
   ],
   "source": [
    "plt.figure(figsize = (10,12))\n",
    "sns.heatmap(dt.corr())\n",
    "plt.show()"
   ]
  },
  {
   "cell_type": "code",
   "execution_count": 55,
   "metadata": {},
   "outputs": [
    {
     "data": {
      "image/png": "[encoded data removed]",
      "text/plain": [
       "<Figure size 432x288 with 1 Axes>"
      ]
     },
     "metadata": {},
     "output_type": "display_data"
    }
   ],
   "source": [
    "sns.regplot(x = 'view', y='price',data = dt, color = 'green')\n",
    "sns.despine()"
   ]
  },
  {
   "cell_type": "code",
   "execution_count": 38,
   "metadata": {},
   "outputs": [
    {
     "data": {
      "image/png": "[encoded data removed]",
      "text/plain": [
       "<Figure size 432x288 with 1 Axes>"
      ]
     },
     "metadata": {},
     "output_type": "display_data"
    }
   ],
   "source": [
    "sns.regplot(x = 'condition',y = 'yr_built',data = dt, color='purple')\n",
    "sns.despine()"
   ]
  },
  {
   "cell_type": "code",
   "execution_count": 39,
   "metadata": {},
   "outputs": [
    {
     "data": {
      "image/png": "[encoded data removed]",
      "text/plain": [
       "<Figure size 432x288 with 1 Axes>"
      ]
     },
     "metadata": {},
     "output_type": "display_data"
    }
   ],
   "source": [
    "sns.boxplot(x = 'view',y = 'price',data = dt )\n",
    "sns.despine()"
   ]
  },
  {
   "cell_type": "code",
   "execution_count": 41,
   "metadata": {},
   "outputs": [
    {
     "data": {
      "image/png": "[encoded data removed]",
      "text/plain": [
       "<Figure size 432x288 with 1 Axes>"
      ]
     },
     "metadata": {},
     "output_type": "display_data"
    }
   ],
   "source": [
    "sns.boxplot(x = 'waterfront',y = 'price',data = dt, color='orange')\n",
    "sns.despine()"
   ]
  },
  {
   "cell_type": "markdown",
   "metadata": {},
   "source": [
    "### Multivariate Analysis\n",
    "\n",
    "__Multivariate refers to an expression of more then two variable.__"
   ]
  },
  {
   "cell_type": "code",
   "execution_count": 35,
   "metadata": {},
   "outputs": [
    {
     "data": {
      "text/plain": [
       "<matplotlib.axes._subplots.AxesSubplot at 0x1a1b125ed30>"
      ]
     },
     "execution_count": 35,
     "metadata": {},
     "output_type": "execute_result"
    },
    {
     "data": {
      "image/png": "[encoded data removed]",
      "text/plain": [
       "<Figure size 720x576 with 1 Axes>"
      ]
     },
     "metadata": {},
     "output_type": "display_data"
    }
   ],
   "source": [
    "plt.figure(figsize=(10,8))\n",
    "sns.swarmplot(x= 'sqft_living', y='price', data= dt,hue='bathrooms')"
   ]
  },
  {
   "cell_type": "code",
   "execution_count": 42,
   "metadata": {},
   "outputs": [
    {
     "data": {
      "image/png": "[encoded data removed]",
      "text/plain": [
       "<Figure size 432x216 with 2 Axes>"
      ]
     },
     "metadata": {},
     "output_type": "display_data"
    }
   ],
   "source": [
    "grid = sns.FacetGrid(dt, col='condition',col_wrap=2)\n",
    "grid.map(plt.scatter,'sqft_living','price',alpha = 0.2)\n",
    "sns.despine()"
   ]
  },
  {
   "cell_type": "code",
   "execution_count": 44,
   "metadata": {},
   "outputs": [
    {
     "data": {
      "image/png": "[encoded data removed]",
      "text/plain": [
       "<Figure size 432x216 with 2 Axes>"
      ]
     },
     "metadata": {},
     "output_type": "display_data"
    }
   ],
   "source": [
    "grid = sns.FacetGrid(dt, col='condition',col_wrap=2)\n",
    "grid.map(plt.scatter,'view','price',alpha = 0.2)\n",
    "sns.despine()"
   ]
  },
  {
   "cell_type": "markdown",
   "metadata": {},
   "source": [
    "### Final Plot\n",
    "\n",
    "__This is the final section where three most interesting graphs plot.__"
   ]
  },
  {
   "cell_type": "markdown",
   "metadata": {},
   "source": [
    "- We have included this plot as the built year helps us to price the houses well."
   ]
  },
  {
   "cell_type": "code",
   "execution_count": 45,
   "metadata": {},
   "outputs": [
    {
     "name": "stderr",
     "output_type": "stream",
     "text": [
      "C:\\ProgramData\\Anaconda3\\lib\\site-packages\\matplotlib\\axes\\_axes.py:6462: UserWarning: The 'normed' kwarg is deprecated, and has been replaced by the 'density' kwarg.\n",
      "  warnings.warn(\"The 'normed' kwarg is deprecated, and has been \"\n"
     ]
    },
    {
     "data": {
      "image/png": "[encoded data removed]",
      "text/plain": [
       "<Figure size 432x288 with 1 Axes>"
      ]
     },
     "metadata": {},
     "output_type": "display_data"
    }
   ],
   "source": [
    "sns.distplot(dt['yr_built'])\n",
    "sns.despine()"
   ]
  },
  {
   "cell_type": "markdown",
   "metadata": {},
   "source": [
    "- We have included this graph as views around the house plays a major role in depicting the prices"
   ]
  },
  {
   "cell_type": "code",
   "execution_count": 48,
   "metadata": {},
   "outputs": [
    {
     "data": {
      "image/png": "[encoded data removed]",
      "text/plain": [
       "<Figure size 432x288 with 1 Axes>"
      ]
     },
     "metadata": {},
     "output_type": "display_data"
    }
   ],
   "source": [
    "sns.regplot(x = 'view', y='price',data = dt, color = 'green')\n",
    "sns.despine()"
   ]
  },
  {
   "cell_type": "markdown",
   "metadata": {},
   "source": [
    "- It shows the correlation between different components of the house."
   ]
  },
  {
   "cell_type": "code",
   "execution_count": 49,
   "metadata": {},
   "outputs": [
    {
     "data": {
      "image/png": "[encoded data removed]",
      "text/plain": [
       "<Figure size 576x432 with 2 Axes>"
      ]
     },
     "metadata": {},
     "output_type": "display_data"
    }
   ],
   "source": [
    "plt.figure(figsize = (8,6))\n",
    "sns.heatmap(dt.corr())\n",
    "plt.show()"
   ]
  }
 ],
 "metadata": {
  "kernelspec": {
   "display_name": "Python 3",
   "language": "python",
   "name": "python3"
  },
  "language_info": {
   "codemirror_mode": {
    "name": "ipython",
    "version": 3
   },
   "file_extension": ".py",
   "mimetype": "text/x-python",
   "name": "python",
   "nbconvert_exporter": "python",
   "pygments_lexer": "ipython3",
   "version": "3.6.5"
  }
 },
 "nbformat": 4,
 "nbformat_minor": 2
}
