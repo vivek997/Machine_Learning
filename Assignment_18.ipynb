{
 "cells": [
  {
   "cell_type": "code",
   "execution_count": 6,
   "metadata": {},
   "outputs": [],
   "source": [
    "# Importing the required libraries.\n",
    "import math"
   ]
  },
  {
   "cell_type": "markdown",
   "metadata": {},
   "source": [
    "##### Question 1."
   ]
  },
  {
   "cell_type": "code",
   "execution_count": 1,
   "metadata": {},
   "outputs": [
    {
     "name": "stdout",
     "output_type": "stream",
     "text": [
      "F = (b+c)(a-1)\n"
     ]
    }
   ],
   "source": [
    "# Put the value of u, v and w in eqn. F=u+v-w.\n",
    "# RESULT:\n",
    "print('F = (b+c)(a-1)')"
   ]
  },
  {
   "cell_type": "markdown",
   "metadata": {},
   "source": [
    "##### Question 2."
   ]
  },
  {
   "cell_type": "code",
   "execution_count": 11,
   "metadata": {},
   "outputs": [
    {
     "name": "stdout",
     "output_type": "stream",
     "text": [
      "21.3408\n"
     ]
    }
   ],
   "source": [
    "# question 2\n",
    "x1 = -0.06\n",
    "x2 = -2.5\n",
    "x3 = 1.4\n",
    "\n",
    "w1 = 2.7\n",
    "w2 = -8.6\n",
    "w3 = 0.002\n",
    "\n",
    "x = (w1*x1) + (w2*x2) +(w3*x3)\n",
    "print(x)"
   ]
  },
  {
   "cell_type": "code",
   "execution_count": 12,
   "metadata": {},
   "outputs": [
    {
     "name": "stdout",
     "output_type": "stream",
     "text": [
      "99.99999994607273\n"
     ]
    }
   ],
   "source": [
    "fx = 1 / (1 + math.exp(-x))\n",
    "print(fx*100)"
   ]
  },
  {
   "cell_type": "code",
   "execution_count": 14,
   "metadata": {},
   "outputs": [
    {
     "name": "stdout",
     "output_type": "stream",
     "text": [
      "99.99999983799357\n"
     ]
    }
   ],
   "source": [
    "bias = -1.1\n",
    "X2 = x + bias\n",
    "fx2 = 1 / (1 + math.exp(-X2))\n",
    "print(fx2*100)"
   ]
  },
  {
   "cell_type": "markdown",
   "metadata": {},
   "source": [
    "Both the value are almost same, Bias doesn't affect much.\n",
    "\n",
    "A bias value allows you to shift the activation function to the left or right or it is used to moved the prediction."
   ]
  }
 ],
 "metadata": {
  "kernelspec": {
   "display_name": "Python 3",
   "language": "python",
   "name": "python3"
  },
  "language_info": {
   "codemirror_mode": {
    "name": "ipython",
    "version": 3
   },
   "file_extension": ".py",
   "mimetype": "text/x-python",
   "name": "python",
   "nbconvert_exporter": "python",
   "pygments_lexer": "ipython3",
   "version": "3.6.5"
  }
 },
 "nbformat": 4,
 "nbformat_minor": 2
}
