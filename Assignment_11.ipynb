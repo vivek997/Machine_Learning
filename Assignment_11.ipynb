{
 "cells": [
  {
   "cell_type": "code",
   "execution_count": 8,
   "metadata": {},
   "outputs": [],
   "source": [
    "#Importing the required libraries.\n",
    "import pandas as pd\n",
    "import numpy as np\n",
    "import matplotlib.pyplot as plt\n",
    "import seaborn as sns\n",
    "from sklearn import preprocessing\n",
    "from sklearn.datasets import load_digits\n",
    "from sklearn.model_selection import train_test_split\n",
    "from sklearn.neighbors import *"
   ]
  },
  {
   "cell_type": "code",
   "execution_count": 3,
   "metadata": {},
   "outputs": [],
   "source": [
    "#Save x and y as dataframes. \n",
    "digit = load_digits()\n",
    "x = digit.data\n",
    "y = digit.target"
   ]
  },
  {
   "cell_type": "code",
   "execution_count": 4,
   "metadata": {},
   "outputs": [
    {
     "data": {
      "text/plain": [
       "((1797, 64), (1797,))"
      ]
     },
     "execution_count": 4,
     "metadata": {},
     "output_type": "execute_result"
    }
   ],
   "source": [
    "x.shape, y.shape"
   ]
  },
  {
   "cell_type": "markdown",
   "metadata": {},
   "source": [
    "#### Split the dataset into training and testing sets."
   ]
  },
  {
   "cell_type": "code",
   "execution_count": 7,
   "metadata": {},
   "outputs": [],
   "source": [
    "X_train,X_test,y_train,y_test = train_test_split(x,y,test_size = 0.3)"
   ]
  },
  {
   "cell_type": "markdown",
   "metadata": {},
   "source": [
    "#### KNN ALgorithm"
   ]
  },
  {
   "cell_type": "code",
   "execution_count": 9,
   "metadata": {},
   "outputs": [],
   "source": [
    "knn = KNeighborsClassifier(n_neighbors = 2)"
   ]
  },
  {
   "cell_type": "code",
   "execution_count": 10,
   "metadata": {},
   "outputs": [
    {
     "data": {
      "text/plain": [
       "KNeighborsClassifier(algorithm='auto', leaf_size=30, metric='minkowski',\n",
       "           metric_params=None, n_jobs=1, n_neighbors=2, p=2,\n",
       "           weights='uniform')"
      ]
     },
     "execution_count": 10,
     "metadata": {},
     "output_type": "execute_result"
    }
   ],
   "source": [
    "knn.fit(X_train,y_train)"
   ]
  },
  {
   "cell_type": "code",
   "execution_count": 14,
   "metadata": {},
   "outputs": [
    {
     "data": {
      "text/plain": [
       "array([9, 1, 8, 7, 4, 0, 9, 4, 2, 1, 7, 3, 8, 1, 5, 6, 6, 5, 7, 9, 2, 0,\n",
       "       1, 8, 4, 0, 6, 3, 6, 4, 2, 7, 0, 4, 3, 2, 5, 0, 0, 6, 1, 1, 5, 8,\n",
       "       7, 3, 5, 0, 9, 2, 8, 8, 6, 6, 7, 5, 2, 2, 1, 1, 4, 8, 0, 4, 3, 6,\n",
       "       7, 7, 2, 6, 0, 6, 3, 8, 3, 0, 7, 6, 9, 9, 9, 2, 9, 3, 1, 1, 0, 8,\n",
       "       5, 2, 1, 1, 0, 1, 0, 5, 3, 4, 2, 0, 1, 0, 9, 7, 9, 3, 6, 9, 5, 6,\n",
       "       6, 3, 6, 1, 1, 4, 9, 4, 2, 9, 1, 1, 0, 7, 0, 7, 3, 5, 5, 5, 1, 3,\n",
       "       4, 1, 9, 4, 1, 5, 3, 2, 7, 0, 7, 7, 4, 2, 5, 4, 1, 2, 9, 5, 8, 9,\n",
       "       9, 4, 1, 4, 6, 7, 4, 9, 2, 1, 4, 0, 5, 4, 8, 3, 5, 4, 1, 4, 4, 8,\n",
       "       7, 7, 5, 6, 2, 4, 1, 4, 0, 0, 3, 0, 9, 9, 1, 3, 4, 9, 3, 9, 5, 7,\n",
       "       8, 2, 2, 0, 6, 8, 2, 0, 6, 1, 7, 8, 3, 5, 0, 3, 2, 3, 4, 9, 4, 3,\n",
       "       0, 3, 5, 2, 9, 1, 3, 1, 0, 8, 3, 1, 3, 8, 0, 1, 2, 6, 4, 5, 3, 6,\n",
       "       0, 9, 7, 9, 6, 8, 7, 0, 2, 9, 8, 8, 8, 0, 0, 8, 9, 0, 2, 7, 1, 7,\n",
       "       0, 1, 5, 8, 0, 4, 2, 8, 4, 3, 1, 3, 5, 7, 6, 3, 8, 7, 2, 0, 9, 5,\n",
       "       6, 1, 6, 2, 5, 1, 3, 9, 0, 8, 3, 3, 5, 7, 4, 4, 2, 5, 7, 7, 0, 8,\n",
       "       1, 1, 4, 3, 5, 3, 0, 2, 9, 4, 9, 3, 1, 6, 9, 6, 5, 6, 8, 7, 2, 8,\n",
       "       3, 0, 8, 1, 1, 5, 3, 1, 3, 4, 2, 6, 6, 9, 0, 4, 9, 4, 3, 7, 6, 1,\n",
       "       6, 5, 8, 5, 1, 3, 0, 6, 9, 2, 2, 4, 7, 6, 4, 2, 8, 2, 4, 5, 5, 2,\n",
       "       7, 1, 9, 9, 3, 8, 4, 0, 1, 4, 3, 3, 1, 7, 9, 6, 0, 0, 5, 8, 1, 1,\n",
       "       2, 1, 1, 6, 1, 2, 7, 1, 2, 6, 9, 4, 3, 9, 8, 4, 5, 4, 0, 5, 8, 9,\n",
       "       7, 5, 3, 1, 8, 4, 2, 4, 3, 6, 7, 1, 9, 9, 3, 0, 7, 1, 2, 2, 8, 4,\n",
       "       5, 8, 1, 1, 7, 1, 1, 8, 5, 9, 3, 0, 9, 9, 2, 9, 4, 0, 2, 2, 1, 7,\n",
       "       1, 8, 9, 6, 4, 7, 5, 4, 9, 7, 1, 9, 7, 4, 0, 3, 0, 5, 3, 3, 4, 5,\n",
       "       1, 4, 4, 8, 1, 1, 5, 7, 1, 7, 4, 4, 6, 9, 3, 5, 4, 5, 3, 5, 2, 3,\n",
       "       4, 3, 3, 9, 5, 8, 8, 2, 4, 4, 6, 2, 2, 4, 0, 7, 1, 3, 0, 2, 7, 2,\n",
       "       1, 1, 2, 8, 6, 6, 3, 2, 7, 7, 2, 8])"
      ]
     },
     "execution_count": 14,
     "metadata": {},
     "output_type": "execute_result"
    }
   ],
   "source": [
    "pred = knn.predict(X_test)\n",
    "pred"
   ]
  },
  {
   "cell_type": "code",
   "execution_count": 12,
   "metadata": {},
   "outputs": [],
   "source": [
    "result = pd.DataFrame({\"Predicted\":pred,\"Actual\":y_test})"
   ]
  },
  {
   "cell_type": "code",
   "execution_count": 15,
   "metadata": {},
   "outputs": [
    {
     "data": {
      "text/html": [
       "<div>\n",
       "<style scoped>\n",
       "    .dataframe tbody tr th:only-of-type {\n",
       "        vertical-align: middle;\n",
       "    }\n",
       "\n",
       "    .dataframe tbody tr th {\n",
       "        vertical-align: top;\n",
       "    }\n",
       "\n",
       "    .dataframe thead th {\n",
       "        text-align: right;\n",
       "    }\n",
       "</style>\n",
       "<table border=\"1\" class=\"dataframe\">\n",
       "  <thead>\n",
       "    <tr style=\"text-align: right;\">\n",
       "      <th></th>\n",
       "      <th>Predicted</th>\n",
       "      <th>Actual</th>\n",
       "    </tr>\n",
       "  </thead>\n",
       "  <tbody>\n",
       "    <tr>\n",
       "      <th>0</th>\n",
       "      <td>9</td>\n",
       "      <td>9</td>\n",
       "    </tr>\n",
       "    <tr>\n",
       "      <th>1</th>\n",
       "      <td>1</td>\n",
       "      <td>1</td>\n",
       "    </tr>\n",
       "    <tr>\n",
       "      <th>2</th>\n",
       "      <td>8</td>\n",
       "      <td>8</td>\n",
       "    </tr>\n",
       "    <tr>\n",
       "      <th>3</th>\n",
       "      <td>7</td>\n",
       "      <td>7</td>\n",
       "    </tr>\n",
       "    <tr>\n",
       "      <th>4</th>\n",
       "      <td>4</td>\n",
       "      <td>4</td>\n",
       "    </tr>\n",
       "  </tbody>\n",
       "</table>\n",
       "</div>"
      ],
      "text/plain": [
       "   Predicted  Actual\n",
       "0          9       9\n",
       "1          1       1\n",
       "2          8       8\n",
       "3          7       7\n",
       "4          4       4"
      ]
     },
     "execution_count": 15,
     "metadata": {},
     "output_type": "execute_result"
    }
   ],
   "source": [
    "result.head()"
   ]
  },
  {
   "cell_type": "markdown",
   "metadata": {},
   "source": [
    "#### KNN Score:"
   ]
  },
  {
   "cell_type": "code",
   "execution_count": 16,
   "metadata": {},
   "outputs": [
    {
     "data": {
      "text/plain": [
       "98.33333333333333"
      ]
     },
     "execution_count": 16,
     "metadata": {},
     "output_type": "execute_result"
    }
   ],
   "source": [
    "knn.score(X_test,y_test)*100"
   ]
  }
 ],
 "metadata": {
  "kernelspec": {
   "display_name": "Python 3",
   "language": "python",
   "name": "python3"
  },
  "language_info": {
   "codemirror_mode": {
    "name": "ipython",
    "version": 3
   },
   "file_extension": ".py",
   "mimetype": "text/x-python",
   "name": "python",
   "nbconvert_exporter": "python",
   "pygments_lexer": "ipython3",
   "version": "3.6.5"
  }
 },
 "nbformat": 4,
 "nbformat_minor": 2
}
